{
 "cells": [
  {
   "cell_type": "code",
   "execution_count": 2,
   "metadata": {},
   "outputs": [],
   "source": [
    "# Morphological operations\n",
    "import cv2\n",
    "import numpy as np\n",
    "import matplotlib.pyplot as plt"
   ]
  },
  {
   "cell_type": "code",
   "execution_count": 32,
   "metadata": {},
   "outputs": [],
   "source": [
    "img = cv2.imread('Resolute ai\\Fabric15.jpg', 1) # i put zero because i wanted gray level image if i had put 1 i would have gotten color image"
   ]
  },
  {
   "cell_type": "code",
   "execution_count": 33,
   "metadata": {},
   "outputs": [],
   "source": [
    "gray = cv2.cvtColor(img, cv2.COLOR_BGR2GRAY)"
   ]
  },
  {
   "cell_type": "code",
   "execution_count": 6,
   "metadata": {},
   "outputs": [
    {
     "data": {
      "text/plain": [
       "(array([0.0000e+00, 0.0000e+00, 0.0000e+00, 0.0000e+00, 0.0000e+00,\n",
       "        0.0000e+00, 0.0000e+00, 0.0000e+00, 0.0000e+00, 0.0000e+00,\n",
       "        0.0000e+00, 0.0000e+00, 0.0000e+00, 0.0000e+00, 0.0000e+00,\n",
       "        0.0000e+00, 0.0000e+00, 0.0000e+00, 0.0000e+00, 0.0000e+00,\n",
       "        0.0000e+00, 0.0000e+00, 0.0000e+00, 0.0000e+00, 0.0000e+00,\n",
       "        0.0000e+00, 0.0000e+00, 0.0000e+00, 0.0000e+00, 0.0000e+00,\n",
       "        0.0000e+00, 0.0000e+00, 0.0000e+00, 0.0000e+00, 1.0000e+00,\n",
       "        2.0000e+00, 8.0000e+00, 5.0000e+00, 9.0000e+00, 1.2000e+01,\n",
       "        2.0000e+01, 3.7000e+01, 3.5000e+01, 5.2000e+01, 7.2000e+01,\n",
       "        1.3300e+02, 1.1300e+02, 2.0900e+02, 1.8800e+02, 3.1600e+02,\n",
       "        4.2000e+02, 3.4200e+02, 6.0900e+02, 5.0500e+02, 8.6100e+02,\n",
       "        7.7000e+02, 1.3490e+03, 1.0380e+03, 1.8460e+03, 1.4330e+03,\n",
       "        2.5710e+03, 2.9880e+03, 2.2930e+03, 3.9710e+03, 3.0060e+03,\n",
       "        5.0770e+03, 3.9410e+03, 6.5940e+03, 4.8790e+03, 8.1890e+03,\n",
       "        9.1690e+03, 6.7290e+03, 1.1219e+04, 8.0370e+03, 1.3096e+04,\n",
       "        9.0750e+03, 1.4662e+04, 1.0293e+04, 1.5797e+04, 1.0845e+04,\n",
       "        1.6264e+04, 1.5952e+04, 1.0339e+04, 1.4099e+04, 8.3530e+03,\n",
       "        1.0823e+04, 5.8610e+03, 6.7020e+03, 3.3150e+03, 3.5000e+03,\n",
       "        1.9790e+03, 8.3500e+02, 7.4100e+02, 2.5400e+02, 2.0300e+02,\n",
       "        5.7000e+01, 3.3000e+01, 5.0000e+00, 7.0000e+00, 6.0000e+00]),\n",
       " array([  0.  ,   2.55,   5.1 ,   7.65,  10.2 ,  12.75,  15.3 ,  17.85,\n",
       "         20.4 ,  22.95,  25.5 ,  28.05,  30.6 ,  33.15,  35.7 ,  38.25,\n",
       "         40.8 ,  43.35,  45.9 ,  48.45,  51.  ,  53.55,  56.1 ,  58.65,\n",
       "         61.2 ,  63.75,  66.3 ,  68.85,  71.4 ,  73.95,  76.5 ,  79.05,\n",
       "         81.6 ,  84.15,  86.7 ,  89.25,  91.8 ,  94.35,  96.9 ,  99.45,\n",
       "        102.  , 104.55, 107.1 , 109.65, 112.2 , 114.75, 117.3 , 119.85,\n",
       "        122.4 , 124.95, 127.5 , 130.05, 132.6 , 135.15, 137.7 , 140.25,\n",
       "        142.8 , 145.35, 147.9 , 150.45, 153.  , 155.55, 158.1 , 160.65,\n",
       "        163.2 , 165.75, 168.3 , 170.85, 173.4 , 175.95, 178.5 , 181.05,\n",
       "        183.6 , 186.15, 188.7 , 191.25, 193.8 , 196.35, 198.9 , 201.45,\n",
       "        204.  , 206.55, 209.1 , 211.65, 214.2 , 216.75, 219.3 , 221.85,\n",
       "        224.4 , 226.95, 229.5 , 232.05, 234.6 , 237.15, 239.7 , 242.25,\n",
       "        244.8 , 247.35, 249.9 , 252.45, 255.  ]),\n",
       " <BarContainer object of 100 artists>)"
      ]
     },
     "execution_count": 6,
     "metadata": {},
     "output_type": "execute_result"
    },
    {
     "data": {
      "image/png": "[encoded data removed]",
      "text/plain": [
       "<Figure size 640x480 with 1 Axes>"
      ]
     },
     "metadata": {},
     "output_type": "display_data"
    }
   ],
   "source": [
    "\n",
    "plt.hist(img.flat, bins=100, range=(0,255))"
   ]
  },
  {
   "cell_type": "markdown",
   "metadata": {},
   "source": [
    "I had to flatten the image as it was a 2D image and i can only give 1D array and the range was from 0 to 255 because of the colors of the image"
   ]
  },
  {
   "cell_type": "markdown",
   "metadata": {},
   "source": [
    "I am thresholding all the values in my image between 0 and 255"
   ]
  },
  {
   "cell_type": "code",
   "execution_count": 34,
   "metadata": {},
   "outputs": [],
   "source": [
    "ret, th = cv2.threshold(gray, 0, 255, cv2.THRESH_BINARY + cv2.THRESH_OTSU)\n",
    "kernel = np.ones((3,3), np.uint8) # this is a 3x3 matrices of value 1 print the line to see\n",
    "# print(kernel)\n",
    "errosion = cv2.erode(th, kernel, iterations=2)\n",
    "dilation = cv2.dilate(errosion, kernel, iterations=1)\n",
    "\n",
    "# Find Countours\n",
    "contours, hierarchy = cv2.findContours(dilation, cv2.RETR_TREE, cv2.CHAIN_APPROX_SIMPLE)\n",
    "\n",
    "# Create an empty image for countr\n",
    "for cnt in (contours):\n",
    "    x,y,w,h = cv2.boundingRect(cnt)\n",
    "    cv2.rectangle(img, (x,y), (x+w, y+h), (0,255,0),3)\n",
    "\n",
    "\n",
    "\n",
    "cv2.imshow(\"Original\", img)\n",
    "cv2.imshow(\"OTSU Image\", th) \n",
    "cv2.imshow(\"Eroded Image\", errosion)\n",
    "cv2.imshow(\"Erroded + dialated\", dilation)\n",
    "cv2.imshow(\"Detections\", img)\n",
    "cv2.waitKey(0)\n",
    "cv2.destroyAllWindows()"
   ]
  },
  {
   "cell_type": "code",
   "execution_count": null,
   "metadata": {},
   "outputs": [],
   "source": []
  }
 ],
 "metadata": {
  "kernelspec": {
   "display_name": "Python 3 (ipykernel)",
   "language": "python",
   "name": "python3"
  },
  "language_info": {
   "codemirror_mode": {
    "name": "ipython",
    "version": 3
   },
   "file_extension": ".py",
   "mimetype": "text/x-python",
   "name": "python",
   "nbconvert_exporter": "python",
   "pygments_lexer": "ipython3",
   "version": "3.10.9"
  }
 },
 "nbformat": 4,
 "nbformat_minor": 2
}
