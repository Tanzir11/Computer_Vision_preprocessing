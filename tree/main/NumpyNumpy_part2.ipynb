{
  "cells": [
    {
      "cell_type": "markdown",
      "metadata": {
        "id": "view-in-github",
        "colab_type": "text"
      },
      "source": [
        "<a href=\"https://colab.research.google.com/github/Tanzir11/Computer_Vision_preprocessing/blob/main/tree/main/NumpyNumpy_part2.ipynb\" target=\"_parent\"><img src=\"https://colab.research.google.com/assets/colab-badge.svg\" alt=\"Open In Colab\"/></a>"
      ]
    },
    {
      "cell_type": "code",
      "execution_count": null,
      "id": "a1958662",
      "metadata": {
        "id": "a1958662"
      },
      "outputs": [],
      "source": [
        "import numpy as np"
      ]
    },
    {
      "cell_type": "code",
      "execution_count": null,
      "id": "d7e7ee28",
      "metadata": {
        "id": "d7e7ee28",
        "outputId": "fc8c2fc2-cbb6-4713-8012-211f300bbd8e"
      },
      "outputs": [
        {
          "data": {
            "text/plain": [
              "array([[ 0,  1,  2,  3],\n",
              "       [ 4,  5,  6,  7],\n",
              "       [ 8,  9, 10, 11],\n",
              "       [12, 13, 14, 15]])"
            ]
          },
          "execution_count": 2,
          "metadata": {},
          "output_type": "execute_result"
        }
      ],
      "source": [
        "# Extract a diagonal or construct a diagonal array\n",
        "x = np.arange(16).reshape((4,4))\n",
        "x"
      ]
    },
    {
      "cell_type": "markdown",
      "id": "2dc4baed",
      "metadata": {
        "id": "2dc4baed"
      },
      "source": [
        "While using reshape function always keep in mind that the shape you're providing is compatible with the number of elements present in the numpy array.since i had 16 elements the shapes that i could use are (1,16), (2,8), (4,4),(8,2),(16,1) i can also go like (8,2,1), (8,2,1,1) and etc"
      ]
    },
    {
      "cell_type": "code",
      "execution_count": null,
      "id": "f48ee690",
      "metadata": {
        "id": "f48ee690",
        "outputId": "d0e5c80c-3063-4023-cc7e-efa25b215ebf"
      },
      "outputs": [
        {
          "data": {
            "text/plain": [
              "array([ 0,  5, 10, 15])"
            ]
          },
          "execution_count": 3,
          "metadata": {},
          "output_type": "execute_result"
        }
      ],
      "source": [
        "np.diag(x)"
      ]
    },
    {
      "cell_type": "markdown",
      "id": "52ada466",
      "metadata": {
        "id": "52ada466"
      },
      "source": [
        "The -1 in (1,-1) signifies that the dataset can be 1 and the rest of the data which in this case was 16 and it wont just be about (-1) but instead any negative number on it's place and it's going to perform the same, just remember out of (x,y) only one of them would be negative not all. so either x can be nagetive or y never both. In the same manner i can also create a 3 dimensional data all that i have to keep in mind is that only 1 element will be negation and the product of the first 2 should be a factor of the total number of element present."
      ]
    },
    {
      "cell_type": "code",
      "execution_count": null,
      "id": "5eb1afdd",
      "metadata": {
        "id": "5eb1afdd",
        "outputId": "658d1632-e17b-43a7-e3e6-323040a4f02a"
      },
      "outputs": [
        {
          "data": {
            "text/plain": [
              "array([[ 0,  1,  2,  3,  4,  5,  6,  7,  8,  9, 10, 11, 12, 13, 14, 15]])"
            ]
          },
          "execution_count": 4,
          "metadata": {},
          "output_type": "execute_result"
        }
      ],
      "source": [
        " np.arange(16).reshape(1,-1)"
      ]
    },
    {
      "cell_type": "code",
      "execution_count": null,
      "id": "a1d6ee90",
      "metadata": {
        "id": "a1d6ee90",
        "outputId": "3f9572f0-8af5-4f52-ff37-af1e718df594"
      },
      "outputs": [
        {
          "data": {
            "text/plain": [
              "array([[ 0,  1],\n",
              "       [ 2,  3],\n",
              "       [ 4,  5],\n",
              "       [ 6,  7],\n",
              "       [ 8,  9],\n",
              "       [10, 11],\n",
              "       [12, 13],\n",
              "       [14, 15]])"
            ]
          },
          "execution_count": 5,
          "metadata": {},
          "output_type": "execute_result"
        }
      ],
      "source": [
        " np.arange(16).reshape(8,-1)"
      ]
    },
    {
      "cell_type": "code",
      "execution_count": null,
      "id": "cd3a22ad",
      "metadata": {
        "id": "cd3a22ad",
        "outputId": "92fc3f1b-5bb8-4722-d806-fbd7c2ae2993"
      },
      "outputs": [
        {
          "data": {
            "text/plain": [
              "array([[ 0,  1,  2,  3],\n",
              "       [ 4,  5,  6,  7],\n",
              "       [ 8,  9, 10, 11],\n",
              "       [12, 13, 14, 15]])"
            ]
          },
          "execution_count": 6,
          "metadata": {},
          "output_type": "execute_result"
        }
      ],
      "source": [
        "x = np.arange(16).reshape(-12345, 4)\n",
        "x"
      ]
    },
    {
      "cell_type": "code",
      "execution_count": null,
      "id": "69338cc5",
      "metadata": {
        "id": "69338cc5",
        "outputId": "da05df5a-3554-4806-f90e-3ed2dcf8546e"
      },
      "outputs": [
        {
          "data": {
            "text/plain": [
              "array([[[ 0,  1],\n",
              "        [ 2,  3],\n",
              "        [ 4,  5],\n",
              "        [ 6,  7]],\n",
              "\n",
              "       [[ 8,  9],\n",
              "        [10, 11],\n",
              "        [12, 13],\n",
              "        [14, 15]]])"
            ]
          },
          "execution_count": 7,
          "metadata": {},
          "output_type": "execute_result"
        }
      ],
      "source": [
        "y = np.arange(16).reshape(-122323,4,2)\n",
        "y"
      ]
    },
    {
      "cell_type": "code",
      "execution_count": null,
      "id": "fba5e95b",
      "metadata": {
        "id": "fba5e95b",
        "outputId": "808dd9a0-f84f-4947-f6b4-bc10db3f2d14"
      },
      "outputs": [
        {
          "ename": "ValueError",
          "evalue": "cannot reshape array of size 16 into shape (4,3)",
          "output_type": "error",
          "traceback": [
            "\u001b[1;31m---------------------------------------------------------------------------\u001b[0m",
            "\u001b[1;31mValueError\u001b[0m                                Traceback (most recent call last)",
            "Cell \u001b[1;32mIn[8], line 1\u001b[0m\n\u001b[1;32m----> 1\u001b[0m z \u001b[38;5;241m=\u001b[39m \u001b[43mnp\u001b[49m\u001b[38;5;241;43m.\u001b[39;49m\u001b[43marange\u001b[49m\u001b[43m(\u001b[49m\u001b[38;5;241;43m16\u001b[39;49m\u001b[43m)\u001b[49m\u001b[38;5;241;43m.\u001b[39;49m\u001b[43mreshape\u001b[49m\u001b[43m(\u001b[49m\u001b[38;5;241;43m-\u001b[39;49m\u001b[38;5;241;43m122323\u001b[39;49m\u001b[43m,\u001b[49m\u001b[38;5;241;43m4\u001b[39;49m\u001b[43m,\u001b[49m\u001b[38;5;241;43m3\u001b[39;49m\u001b[43m)\u001b[49m \u001b[38;5;66;03m# As we can see this will throw the error because 12 is not the factor of 16 but mearly has few values in their respective factors common which holds no weight\u001b[39;00m\n\u001b[0;32m      2\u001b[0m z\n",
            "\u001b[1;31mValueError\u001b[0m: cannot reshape array of size 16 into shape (4,3)"
          ]
        }
      ],
      "source": [
        "z = np.arange(16).reshape(-122323,4,3) # As we can see this will throw the error because 12 is not the factor of 16 but mearly has few values in their respective factors common which holds no weight\n",
        "z"
      ]
    },
    {
      "cell_type": "code",
      "execution_count": null,
      "id": "94193d54",
      "metadata": {
        "id": "94193d54",
        "outputId": "428c9905-2da0-4a5a-f7df-7a497cfee0cd"
      },
      "outputs": [
        {
          "data": {
            "text/plain": [
              "array([ 0,  5, 10, 15])"
            ]
          },
          "execution_count": 9,
          "metadata": {},
          "output_type": "execute_result"
        }
      ],
      "source": [
        "# as the name suggest what i am getting is the diagonal elements of x\n",
        "np.diag(x)"
      ]
    },
    {
      "cell_type": "markdown",
      "id": "4d8e14db",
      "metadata": {
        "id": "4d8e14db"
      },
      "source": [
        "Also remember you can write the logic to get the diagonal elements form the matrices by doing i==j and it will fetch the result"
      ]
    },
    {
      "cell_type": "code",
      "execution_count": null,
      "id": "a8d6639d",
      "metadata": {
        "id": "a8d6639d",
        "outputId": "7d60dc29-b00b-4bdd-8e28-32910702c5b1"
      },
      "outputs": [
        {
          "data": {
            "text/plain": [
              "array([2, 7])"
            ]
          },
          "execution_count": 10,
          "metadata": {},
          "output_type": "execute_result"
        }
      ],
      "source": [
        "np.diag(x, k=2)"
      ]
    },
    {
      "cell_type": "markdown",
      "id": "495eafff",
      "metadata": {
        "id": "495eafff"
      },
      "source": [
        "in our x metric k=0 is our main diagonal in a square metric which is a default parameter in this functions, but if we put k=1\n",
        "* [[ 0,  1,  2,  3],\n",
        "*  [ 4,  5,  6,  7],\n",
        "*  [ 8,  9, 10, 11],\n",
        "*  [12, 13, 14, 15]]\n",
        "\n",
        "from above metric it will drop line (0,1,2,3) and (0,4,8,12) to create a minor metric and return us the diagonal of that metric**"
      ]
    },
    {
      "cell_type": "code",
      "execution_count": null,
      "id": "10fd8437",
      "metadata": {
        "id": "10fd8437",
        "outputId": "5ff96ca9-f8f9-4298-9cde-e738074a8625"
      },
      "outputs": [
        {
          "data": {
            "text/plain": [
              "array([ 1,  6, 11])"
            ]
          },
          "execution_count": 11,
          "metadata": {},
          "output_type": "execute_result"
        }
      ],
      "source": [
        "np.diag(x, k=1)"
      ]
    },
    {
      "cell_type": "code",
      "execution_count": null,
      "id": "4d2c2758",
      "metadata": {
        "id": "4d2c2758",
        "outputId": "c0401879-0b67-4a11-eb24-a1c73c88553e"
      },
      "outputs": [
        {
          "data": {
            "text/plain": [
              "array([2, 7])"
            ]
          },
          "execution_count": 12,
          "metadata": {},
          "output_type": "execute_result"
        }
      ],
      "source": [
        "np.diag(x, k=2)"
      ]
    },
    {
      "cell_type": "code",
      "execution_count": null,
      "id": "0016da7f",
      "metadata": {
        "id": "0016da7f",
        "outputId": "bb417295-d34c-4a59-d591-0116cf76bc98"
      },
      "outputs": [
        {
          "data": {
            "text/plain": [
              "array([[ 0,  1,  2,  3,  4,  5,  6,  7],\n",
              "       [ 8,  9, 10, 11, 12, 13, 14, 15]])"
            ]
          },
          "execution_count": 13,
          "metadata": {},
          "output_type": "execute_result"
        }
      ],
      "source": [
        "xx = np.arange(16).reshape(-1,8)\n",
        "xx"
      ]
    },
    {
      "cell_type": "markdown",
      "id": "8f375135",
      "metadata": {
        "id": "8f375135"
      },
      "source": [
        "In the above example as we can it's not a square metric so in this case what it will do for a value of k=2 is that it will leave the first two values i.e\n",
        "* [0,1]\n",
        "* [8,9]\n",
        "\n",
        "find the next square matrics i.e\n",
        "* [2,3]\n",
        "* [10,11]\n",
        "\n",
        "and return us the diagonal of that matrix"
      ]
    },
    {
      "cell_type": "code",
      "execution_count": null,
      "id": "5345fb08",
      "metadata": {
        "scrolled": true,
        "id": "5345fb08",
        "outputId": "12d44a71-9ca6-4daf-d06e-6198658c5940"
      },
      "outputs": [
        {
          "data": {
            "text/plain": [
              "array([ 2, 11])"
            ]
          },
          "execution_count": 14,
          "metadata": {},
          "output_type": "execute_result"
        }
      ],
      "source": [
        " np.diag(xx,k=2)"
      ]
    },
    {
      "cell_type": "code",
      "execution_count": null,
      "id": "4d1691fd",
      "metadata": {
        "id": "4d1691fd",
        "outputId": "b1c6d122-34a0-4039-a186-6305cd2a7dc7"
      },
      "outputs": [
        {
          "data": {
            "text/plain": [
              "array([ 1, 10])"
            ]
          },
          "execution_count": 15,
          "metadata": {},
          "output_type": "execute_result"
        }
      ],
      "source": [
        "np.diag(xx, k=1)"
      ]
    },
    {
      "cell_type": "markdown",
      "id": "ef246b86",
      "metadata": {
        "id": "ef246b86"
      },
      "source": [
        "So far we have been able to fetch only one side of the main diagonal within a square metrix but what if we want to fetch the other side of the main diagonal within a square metric in that case we will give negative values of k to do so"
      ]
    },
    {
      "cell_type": "code",
      "execution_count": null,
      "id": "6951e2a6",
      "metadata": {
        "id": "6951e2a6",
        "outputId": "d6a55983-31b0-4e44-e377-a3868b5be664"
      },
      "outputs": [
        {
          "data": {
            "text/plain": [
              "array([[ 0,  1,  2,  3],\n",
              "       [ 4,  5,  6,  7],\n",
              "       [ 8,  9, 10, 11],\n",
              "       [12, 13, 14, 15]])"
            ]
          },
          "execution_count": 16,
          "metadata": {},
          "output_type": "execute_result"
        }
      ],
      "source": [
        "x"
      ]
    },
    {
      "cell_type": "code",
      "execution_count": null,
      "id": "cb3060ae",
      "metadata": {
        "id": "cb3060ae",
        "outputId": "7262c67f-dec3-47a4-bae1-0b20325ef05f"
      },
      "outputs": [
        {
          "data": {
            "text/plain": [
              "array([ 4,  9, 14])"
            ]
          },
          "execution_count": 17,
          "metadata": {},
          "output_type": "execute_result"
        }
      ],
      "source": [
        "np.diag(x, k=-1)"
      ]
    },
    {
      "cell_type": "code",
      "execution_count": null,
      "id": "7f3f713d",
      "metadata": {
        "id": "7f3f713d",
        "outputId": "011d2310-9ed3-4b7f-f8f5-d10d32e8a7d2"
      },
      "outputs": [
        {
          "data": {
            "text/plain": [
              "array([ 8, 13])"
            ]
          },
          "execution_count": 18,
          "metadata": {},
          "output_type": "execute_result"
        }
      ],
      "source": [
        "np.diag(x,k=-2)"
      ]
    },
    {
      "cell_type": "code",
      "execution_count": null,
      "id": "242239ed",
      "metadata": {
        "id": "242239ed",
        "outputId": "8b05e866-4001-4ac6-df9c-a24c4010f73c"
      },
      "outputs": [
        {
          "data": {
            "text/plain": [
              "array([12])"
            ]
          },
          "execution_count": 19,
          "metadata": {},
          "output_type": "execute_result"
        }
      ],
      "source": [
        "np.diag(x,k=-3)"
      ]
    },
    {
      "cell_type": "code",
      "execution_count": null,
      "id": "b05bb635",
      "metadata": {
        "id": "b05bb635",
        "outputId": "c30f4428-0721-4a4e-9b74-5912c9f9ffcc"
      },
      "outputs": [
        {
          "data": {
            "text/plain": [
              "array([], dtype=int32)"
            ]
          },
          "execution_count": 20,
          "metadata": {},
          "output_type": "execute_result"
        }
      ],
      "source": [
        "np.diag(x,k=-4)"
      ]
    },
    {
      "cell_type": "markdown",
      "id": "6cfb606e",
      "metadata": {
        "id": "6cfb606e"
      },
      "source": [
        "What if we try to recall diagonal of a diagonal value what will happen. Let's see"
      ]
    },
    {
      "cell_type": "code",
      "execution_count": null,
      "id": "2d831cce",
      "metadata": {
        "id": "2d831cce",
        "outputId": "a4b88982-01b7-4476-f33c-6213f7b7866c"
      },
      "outputs": [
        {
          "data": {
            "text/plain": [
              "array([[ 0,  0,  0,  0],\n",
              "       [ 0,  5,  0,  0],\n",
              "       [ 0,  0, 10,  0],\n",
              "       [ 0,  0,  0, 15]])"
            ]
          },
          "execution_count": 21,
          "metadata": {},
          "output_type": "execute_result"
        }
      ],
      "source": [
        "np.diag(np.diag(x))"
      ]
    },
    {
      "cell_type": "markdown",
      "id": "8b4cf890",
      "metadata": {
        "id": "8b4cf890"
      },
      "source": [
        "So yeah this part of the numpy can be considered weird the reason being the fact that it recreates a 4x4 matrics and try to fit the diagonal values in that"
      ]
    },
    {
      "cell_type": "markdown",
      "id": "cdbb3b7e",
      "metadata": {
        "id": "cdbb3b7e"
      },
      "source": [
        "### Create a two-dimensional array with the flattened input as a diagonal"
      ]
    },
    {
      "cell_type": "code",
      "execution_count": null,
      "id": "ca24825b",
      "metadata": {
        "id": "ca24825b",
        "outputId": "bfaab38d-4847-4727-a8d8-76bcc43f5fb7"
      },
      "outputs": [
        {
          "data": {
            "text/plain": [
              "array([[1, 0, 0, 0],\n",
              "       [0, 2, 0, 0],\n",
              "       [0, 0, 3, 0],\n",
              "       [0, 0, 0, 4]])"
            ]
          },
          "execution_count": 22,
          "metadata": {},
          "output_type": "execute_result"
        }
      ],
      "source": [
        "np.diagflat([[1,2],[3,4]])"
      ]
    },
    {
      "cell_type": "markdown",
      "id": "42192405",
      "metadata": {
        "id": "42192405"
      },
      "source": [
        "So we have a list inside a list basically multidimensional and than it flattens it i.e it makes it [1,2,3,4] so it wont have any nested list and than puts that into a diagonal"
      ]
    },
    {
      "cell_type": "markdown",
      "id": "98bd9200",
      "metadata": {
        "id": "98bd9200"
      },
      "source": [
        "**np.diagflat() again has a k parameter which exactly works the same as it did before**"
      ]
    },
    {
      "cell_type": "code",
      "execution_count": null,
      "id": "7246e612",
      "metadata": {
        "id": "7246e612",
        "outputId": "878f77a8-1cd1-472f-a0ce-94a898fa9ca8"
      },
      "outputs": [
        {
          "data": {
            "text/plain": [
              "array([[0, 1, 0, 0, 0],\n",
              "       [0, 0, 2, 0, 0],\n",
              "       [0, 0, 0, 3, 0],\n",
              "       [0, 0, 0, 0, 4],\n",
              "       [0, 0, 0, 0, 0]])"
            ]
          },
          "execution_count": 23,
          "metadata": {},
          "output_type": "execute_result"
        }
      ],
      "source": [
        "np.diagflat([[1,2],[3,4]], k=1)"
      ]
    },
    {
      "cell_type": "code",
      "execution_count": null,
      "id": "ad12c210",
      "metadata": {
        "id": "ad12c210",
        "outputId": "5cee0d83-ca76-4a4f-8c40-6b9f4db18e7c"
      },
      "outputs": [
        {
          "data": {
            "text/plain": [
              "array([[0, 0, 0, 0, 0],\n",
              "       [1, 0, 0, 0, 0],\n",
              "       [0, 2, 0, 0, 0],\n",
              "       [0, 0, 3, 0, 0],\n",
              "       [0, 0, 0, 4, 0]])"
            ]
          },
          "execution_count": 24,
          "metadata": {},
          "output_type": "execute_result"
        }
      ],
      "source": [
        "np.diagflat([[1,2],[3,4]], k=-1)"
      ]
    },
    {
      "cell_type": "code",
      "execution_count": null,
      "id": "2a3c8d10",
      "metadata": {
        "id": "2a3c8d10",
        "outputId": "a83f425a-ae51-417f-f514-bba523f880ad"
      },
      "outputs": [
        {
          "data": {
            "text/plain": [
              "array([[0, 0, 0, 1, 0, 0, 0],\n",
              "       [0, 0, 0, 0, 2, 0, 0],\n",
              "       [0, 0, 0, 0, 0, 3, 0],\n",
              "       [0, 0, 0, 0, 0, 0, 4],\n",
              "       [0, 0, 0, 0, 0, 0, 0],\n",
              "       [0, 0, 0, 0, 0, 0, 0],\n",
              "       [0, 0, 0, 0, 0, 0, 0]])"
            ]
          },
          "execution_count": 25,
          "metadata": {},
          "output_type": "execute_result"
        }
      ],
      "source": [
        "np.diagflat([[1,2],[3,4]], k=3)"
      ]
    },
    {
      "cell_type": "code",
      "execution_count": null,
      "id": "3c668d8b",
      "metadata": {
        "id": "3c668d8b",
        "outputId": "699500ae-89e0-46e5-b7f9-f01bf95750c7"
      },
      "outputs": [
        {
          "data": {
            "text/plain": [
              "array([[0, 0, 0, 0, 0, 0, 0],\n",
              "       [0, 0, 0, 0, 0, 0, 0],\n",
              "       [0, 0, 0, 0, 0, 0, 0],\n",
              "       [1, 0, 0, 0, 0, 0, 0],\n",
              "       [0, 2, 0, 0, 0, 0, 0],\n",
              "       [0, 0, 3, 0, 0, 0, 0],\n",
              "       [0, 0, 0, 4, 0, 0, 0]])"
            ]
          },
          "execution_count": 26,
          "metadata": {},
          "output_type": "execute_result"
        }
      ],
      "source": [
        "np.diagflat([[1,2],[3,4]], k=-3)"
      ]
    },
    {
      "cell_type": "markdown",
      "id": "e32247d2",
      "metadata": {
        "id": "e32247d2"
      },
      "source": [
        "### np.tri() is a function that's going to create a numpy array with ones and dimensions as specified"
      ]
    },
    {
      "cell_type": "code",
      "execution_count": null,
      "id": "287fcc12",
      "metadata": {
        "id": "287fcc12",
        "outputId": "11e052bf-2a4d-4d70-d634-ed2d44262f0f"
      },
      "outputs": [
        {
          "data": {
            "text/plain": [
              "array([[0, 0, 0, 0, 0],\n",
              "       [1, 0, 0, 0, 0],\n",
              "       [1, 1, 0, 0, 0],\n",
              "       [1, 1, 1, 0, 0],\n",
              "       [1, 1, 1, 1, 0]])"
            ]
          },
          "execution_count": 27,
          "metadata": {},
          "output_type": "execute_result"
        }
      ],
      "source": [
        "np.tri(5, 5, -1, dtype=int)"
      ]
    },
    {
      "cell_type": "markdown",
      "id": "c2880879",
      "metadata": {
        "id": "c2880879"
      },
      "source": [
        "Here k=0 so what it does is that it says leave the diagonal that has 0th index element and get the diagonals above it."
      ]
    },
    {
      "cell_type": "code",
      "execution_count": null,
      "id": "546f2f03",
      "metadata": {
        "scrolled": true,
        "id": "546f2f03",
        "outputId": "90b8dd35-bb9f-42fe-c5a6-ea3c1b178194"
      },
      "outputs": [
        {
          "data": {
            "text/plain": [
              "array([[1, 0, 0, 0, 0],\n",
              "       [1, 1, 0, 0, 0],\n",
              "       [1, 1, 1, 0, 0],\n",
              "       [1, 1, 1, 1, 0],\n",
              "       [1, 1, 1, 1, 1]])"
            ]
          },
          "execution_count": 28,
          "metadata": {},
          "output_type": "execute_result"
        }
      ],
      "source": [
        "np.tri(5,5,0,dtype=int)"
      ]
    },
    {
      "cell_type": "markdown",
      "id": "9077dfab",
      "metadata": {
        "id": "9077dfab"
      },
      "source": [
        "Here k=1 so what it does is that it says leave the diagonal that has 1st index element and get the diagonals above it."
      ]
    },
    {
      "cell_type": "code",
      "execution_count": null,
      "id": "c12ca132",
      "metadata": {
        "scrolled": true,
        "id": "c12ca132",
        "outputId": "03d1ab3f-4b39-419b-abb9-5c3dbd1dcef5"
      },
      "outputs": [
        {
          "data": {
            "text/plain": [
              "array([[1, 1, 0, 0, 0],\n",
              "       [1, 1, 1, 0, 0],\n",
              "       [1, 1, 1, 1, 0],\n",
              "       [1, 1, 1, 1, 1],\n",
              "       [1, 1, 1, 1, 1]])"
            ]
          },
          "execution_count": 29,
          "metadata": {},
          "output_type": "execute_result"
        }
      ],
      "source": [
        "np.tri(5,5,1,dtype=int)"
      ]
    },
    {
      "cell_type": "code",
      "execution_count": null,
      "id": "85678697",
      "metadata": {
        "id": "85678697",
        "outputId": "5ff1602c-e05b-4cff-d80b-f09e98806d39"
      },
      "outputs": [
        {
          "data": {
            "text/plain": [
              "array([[1, 1, 1, 0, 0],\n",
              "       [1, 1, 1, 1, 0],\n",
              "       [1, 1, 1, 1, 1],\n",
              "       [1, 1, 1, 1, 1],\n",
              "       [1, 1, 1, 1, 1]])"
            ]
          },
          "execution_count": 30,
          "metadata": {},
          "output_type": "execute_result"
        }
      ],
      "source": [
        "np.tri(5,5,2,dtype=int)"
      ]
    },
    {
      "cell_type": "code",
      "execution_count": null,
      "id": "677b8334",
      "metadata": {
        "id": "677b8334",
        "outputId": "87770362-ab37-470a-fac4-3fc63dce0625"
      },
      "outputs": [
        {
          "data": {
            "text/plain": [
              "array([[0., 0., 0., 0., 0.],\n",
              "       [1., 0., 0., 0., 0.],\n",
              "       [1., 1., 0., 0., 0.]])"
            ]
          },
          "execution_count": 31,
          "metadata": {},
          "output_type": "execute_result"
        }
      ],
      "source": [
        "np.tri(3,5,k=-1)"
      ]
    },
    {
      "cell_type": "markdown",
      "id": "df6a447e",
      "metadata": {
        "id": "df6a447e"
      },
      "source": [
        "tril means lower triangle"
      ]
    },
    {
      "cell_type": "code",
      "execution_count": null,
      "id": "6aaf3ca9",
      "metadata": {
        "scrolled": true,
        "id": "6aaf3ca9",
        "outputId": "9c88ee05-4427-472e-a4ee-df4d76ab4d4a"
      },
      "outputs": [
        {
          "data": {
            "text/plain": [
              "array([[1, 0, 0],\n",
              "       [4, 5, 0],\n",
              "       [7, 8, 9]])"
            ]
          },
          "execution_count": 32,
          "metadata": {},
          "output_type": "execute_result"
        }
      ],
      "source": [
        "np.tril([[1,2,3],[4,5,6],[7,8,9]],0) # here k=0"
      ]
    },
    {
      "cell_type": "markdown",
      "id": "5d82e8c8",
      "metadata": {
        "id": "5d82e8c8"
      },
      "source": [
        "It tried to keep the data into the lower triangle and whatever we had above it ignored"
      ]
    },
    {
      "cell_type": "code",
      "execution_count": null,
      "id": "88ae40f4",
      "metadata": {
        "id": "88ae40f4",
        "outputId": "4aa8c6d7-6ec2-47ea-fabc-d536b0c5c0d9"
      },
      "outputs": [
        {
          "data": {
            "text/plain": [
              "array([[1, 2, 0],\n",
              "       [4, 5, 6],\n",
              "       [7, 8, 9]])"
            ]
          },
          "execution_count": 33,
          "metadata": {},
          "output_type": "execute_result"
        }
      ],
      "source": [
        "np.tril([[1,2,3],[4,5,6],[7,8,9]],1) # here k=1"
      ]
    },
    {
      "cell_type": "markdown",
      "id": "2a4c13a2",
      "metadata": {
        "id": "2a4c13a2"
      },
      "source": [
        "Upper triangle thing"
      ]
    },
    {
      "cell_type": "code",
      "execution_count": null,
      "id": "dfffb8b7",
      "metadata": {
        "id": "dfffb8b7",
        "outputId": "29a891cf-971d-4de6-c7f6-3d50477cd968"
      },
      "outputs": [
        {
          "data": {
            "text/plain": [
              "array([[1, 2, 3],\n",
              "       [0, 5, 6],\n",
              "       [0, 0, 9],\n",
              "       [0, 0, 0]])"
            ]
          },
          "execution_count": 34,
          "metadata": {},
          "output_type": "execute_result"
        }
      ],
      "source": [
        "np.triu([[1,2,3],[4,5,6],[7,8,9],[10,11,12]],0)"
      ]
    },
    {
      "cell_type": "markdown",
      "id": "5e65b76e",
      "metadata": {
        "id": "5e65b76e"
      },
      "source": [
        "when k=0 we are saying leave the diagonal that has elements from column=0 in it and when k becomes 1 we are saiying that leave the diagonal that has elements from column=1 in it"
      ]
    },
    {
      "cell_type": "code",
      "execution_count": null,
      "id": "e4f41137",
      "metadata": {
        "id": "e4f41137",
        "outputId": "e4e42189-ae6e-4928-f244-60aa181c8afe"
      },
      "outputs": [
        {
          "data": {
            "text/plain": [
              "array([[0, 2, 3],\n",
              "       [0, 0, 6],\n",
              "       [0, 0, 0],\n",
              "       [0, 0, 0]])"
            ]
          },
          "execution_count": 35,
          "metadata": {},
          "output_type": "execute_result"
        }
      ],
      "source": [
        "np.triu([[1,2,3],[4,5,6],[7,8,9],[10,11,12]],1)"
      ]
    },
    {
      "cell_type": "code",
      "execution_count": null,
      "id": "8480557b",
      "metadata": {
        "id": "8480557b",
        "outputId": "f601b48f-5eb2-40f3-95fc-d9e4977b1d7c"
      },
      "outputs": [
        {
          "data": {
            "text/plain": [
              "array([[ 1,  2,  3],\n",
              "       [ 4,  5,  6],\n",
              "       [ 0,  8,  9],\n",
              "       [ 0,  0, 12]])"
            ]
          },
          "execution_count": 36,
          "metadata": {},
          "output_type": "execute_result"
        }
      ],
      "source": [
        "np.triu([[1,2,3],[4,5,6],[7,8,9],[10,11,12]],-1)"
      ]
    },
    {
      "cell_type": "markdown",
      "id": "71311c87",
      "metadata": {
        "id": "71311c87"
      },
      "source": [
        "As per python index convention i.e\n",
        "a = [1,2,3,4]\n",
        "a[-1] = 4\n",
        "similarly\n",
        "when we use -1 the last element is considered so here when we used -1 it referred to the last column which means elements from the last colums cannot appear over here which is happening"
      ]
    },
    {
      "cell_type": "markdown",
      "id": "c15353b8",
      "metadata": {
        "id": "c15353b8"
      },
      "source": [
        "# Random number generator"
      ]
    },
    {
      "cell_type": "markdown",
      "id": "9e88e408",
      "metadata": {
        "id": "9e88e408"
      },
      "source": [
        "## np.random.rand(a,b)\n",
        "### axb metrix with random numbers ranging from 0 to 1, Note no tuple is necessassory"
      ]
    },
    {
      "cell_type": "code",
      "execution_count": null,
      "id": "31a458b3",
      "metadata": {
        "id": "31a458b3",
        "outputId": "daca6446-8719-4f36-c7f5-c842ca03a593"
      },
      "outputs": [
        {
          "name": "stdout",
          "output_type": "stream",
          "text": [
            "Random number generation (from uniform destribution)\n",
            "[[0.39734503 0.11412677 0.85010412]\n",
            " [0.27106511 0.77959529 0.10798851]]\n"
          ]
        }
      ],
      "source": [
        "print(f\"Random number generation (from uniform destribution)\")\n",
        "print(np.random.rand(2,3))"
      ]
    },
    {
      "cell_type": "code",
      "execution_count": null,
      "id": "407f33cf",
      "metadata": {
        "id": "407f33cf",
        "outputId": "fe26eb16-a5e8-4116-a6b2-6dd6fea7e776"
      },
      "outputs": [
        {
          "name": "stdout",
          "output_type": "stream",
          "text": [
            "Random number generation (from uniform destribution)\n",
            "[[[0.17881964 0.45257504 0.00505217 0.14490193]\n",
            "  [0.14532007 0.43681006 0.66776857 0.96666104]\n",
            "  [0.85050947 0.16032699 0.25435643 0.60805526]]\n",
            "\n",
            " [[0.14469532 0.17346848 0.84063552 0.19687263]\n",
            "  [0.59704023 0.86702395 0.28252118 0.40029525]\n",
            "  [0.57791883 0.98788883 0.73875345 0.13902201]]]\n"
          ]
        }
      ],
      "source": [
        "print(f\"Random number generation (from uniform destribution)\")\n",
        "print(np.random.rand(2,3,4))"
      ]
    },
    {
      "cell_type": "markdown",
      "id": "d4f909b0",
      "metadata": {
        "id": "d4f909b0"
      },
      "source": [
        " As far as rand function is concerned it's going to give me output based on uniform distribution i.e a distribution that lies between 0 to 1"
      ]
    },
    {
      "cell_type": "markdown",
      "id": "17937a94",
      "metadata": {
        "id": "17937a94"
      },
      "source": [
        "## np.random.randn(x,y)\n",
        "### this will give us values betweem 0,1 but with equal interval"
      ]
    },
    {
      "cell_type": "code",
      "execution_count": null,
      "id": "fa82c6bf",
      "metadata": {
        "id": "fa82c6bf",
        "outputId": "aaf363d0-3d43-49e3-f01c-43bb56b5ea93"
      },
      "outputs": [
        {
          "name": "stdout",
          "output_type": "stream",
          "text": [
            "Number of normal distribution with zero mean and standard deviation 1 i.e standard normal\n",
            "[[ 0.55459633  0.81103479  0.45082475 -0.0969363  -0.14922295]\n",
            " [-1.17033706  1.23851412  1.53125091  0.45668845  1.06578249]\n",
            " [ 1.19470756  2.64955316  0.13100997  0.72767877 -0.62976067]\n",
            " [ 0.67988043 -0.72077127 -0.57642732 -1.00035234  1.78084422]]\n"
          ]
        }
      ],
      "source": [
        "print(f\"Number of normal distribution with zero mean and standard deviation 1 i.e standard normal\")\n",
        "print(np.random.randn(4,5))"
      ]
    },
    {
      "cell_type": "markdown",
      "id": "dda4b0d4",
      "metadata": {
        "id": "dda4b0d4"
      },
      "source": [
        "**If we want to generate any data between any some number we can use np.arange function and than reshape the value we got**"
      ]
    },
    {
      "cell_type": "markdown",
      "id": "0124a7b0",
      "metadata": {
        "id": "0124a7b0"
      },
      "source": [
        "randn stands for standard normal distribution which basically has ***µ=0*** where ***µ*** is ***mean*** or we can say ***average*** and ***(standard deviation)=1*** for a whole dataset"
      ]
    },
    {
      "cell_type": "markdown",
      "id": "472612c4",
      "metadata": {
        "id": "472612c4"
      },
      "source": [
        "## np.random.randint(x,y,z) where x,y is the range and z is the steps if i do not give steps it will give just 1 element in between"
      ]
    },
    {
      "cell_type": "code",
      "execution_count": null,
      "id": "205ae377",
      "metadata": {
        "id": "205ae377",
        "outputId": "606f04b6-f7dd-4c1c-faf1-14ae6ed7c47f"
      },
      "outputs": [
        {
          "name": "stdout",
          "output_type": "stream",
          "text": [
            "Random integer vector: 4\n",
            "\n",
            "Random integer matrix\n"
          ]
        },
        {
          "data": {
            "text/plain": [
              "9"
            ]
          },
          "execution_count": 40,
          "metadata": {},
          "output_type": "execute_result"
        }
      ],
      "source": [
        "print(\"Random integer vector:\", np.random.randint(1,10))\n",
        "print(\"\\nRandom integer matrix\")\n",
        "np.random.randint(1,10)"
      ]
    },
    {
      "cell_type": "code",
      "execution_count": null,
      "id": "c7bcad9d",
      "metadata": {
        "id": "c7bcad9d",
        "outputId": "9dbddc80-9e2f-4fb1-85c6-737d1e1ffba1"
      },
      "outputs": [
        {
          "name": "stdout",
          "output_type": "stream",
          "text": [
            "[[34 44 21 16 17]\n",
            " [62 22 53 13 35]\n",
            " [33 65 27 20 46]]\n",
            "\n",
            "20 samples drawn from a dice throw [4 1 2 4 2 1 4 2 4 4]\n"
          ]
        }
      ],
      "source": [
        "print(np.random.randint(1,80,(3,5))) # randint (low, high, number of samples to be drawn in a tuple to form a matrix)\n",
        "print(\"\\n20 samples drawn from a dice throw\", np.random.randint(1,5,10))"
      ]
    },
    {
      "cell_type": "markdown",
      "id": "3932072b",
      "metadata": {
        "id": "3932072b"
      },
      "source": [
        "# Reshaping"
      ]
    },
    {
      "cell_type": "code",
      "execution_count": null,
      "id": "d6e6cfca",
      "metadata": {
        "id": "d6e6cfca"
      },
      "outputs": [],
      "source": [
        "from numpy.random import randint as ri\n",
        " # instead of calling randint again and again and again i will just call ri instead"
      ]
    },
    {
      "cell_type": "code",
      "execution_count": null,
      "id": "b367d763",
      "metadata": {
        "id": "b367d763",
        "outputId": "49e6e256-f18f-47cf-90cf-7eadac7e2bd7"
      },
      "outputs": [
        {
          "data": {
            "text/plain": [
              "array([93, 55, 59, 35, 81, 76, 55, 74, 17, 22, 73, 35, 46, 20, 10, 15, 13,\n",
              "       41, 59, 34, 88, 34, 34, 85, 34, 97, 99, 63, 72, 88])"
            ]
          },
          "execution_count": 43,
          "metadata": {},
          "output_type": "execute_result"
        }
      ],
      "source": [
        "a = ri(1,100,30) # we are asking for 3 elements\n",
        "a"
      ]
    },
    {
      "cell_type": "code",
      "execution_count": null,
      "id": "78e56311",
      "metadata": {
        "id": "78e56311",
        "outputId": "40931355-9141-4e93-e9fc-ccef0503fc9b"
      },
      "outputs": [
        {
          "data": {
            "text/plain": [
              "array([[[93, 55, 59, 35, 81],\n",
              "        [76, 55, 74, 17, 22],\n",
              "        [73, 35, 46, 20, 10]],\n",
              "\n",
              "       [[15, 13, 41, 59, 34],\n",
              "        [88, 34, 34, 85, 34],\n",
              "        [97, 99, 63, 72, 88]]])"
            ]
          },
          "execution_count": 44,
          "metadata": {},
          "output_type": "execute_result"
        }
      ],
      "source": [
        "b = a.reshape(2,3,5) # we have reshaped it\n",
        "b"
      ]
    },
    {
      "cell_type": "code",
      "execution_count": null,
      "id": "af20a051",
      "metadata": {
        "id": "af20a051",
        "outputId": "060bdb9e-55e0-4843-d402-53493915ff9b"
      },
      "outputs": [
        {
          "data": {
            "text/plain": [
              "array([[93, 55, 59, 35, 81],\n",
              "       [76, 55, 74, 17, 22],\n",
              "       [73, 35, 46, 20, 10],\n",
              "       [15, 13, 41, 59, 34],\n",
              "       [88, 34, 34, 85, 34],\n",
              "       [97, 99, 63, 72, 88]])"
            ]
          },
          "execution_count": 45,
          "metadata": {},
          "output_type": "execute_result"
        }
      ],
      "source": [
        "c = a.reshape(6,-1) # reshaping it again\n",
        "c"
      ]
    },
    {
      "cell_type": "code",
      "execution_count": null,
      "id": "1e6e53aa",
      "metadata": {
        "id": "1e6e53aa",
        "outputId": "7140fc26-d35f-4d1d-d41d-1d142292aed0"
      },
      "outputs": [
        {
          "name": "stdout",
          "output_type": "stream",
          "text": [
            "\n",
            "a looks line\n",
            " [93 55 59 35 81 76 55 74 17 22 73 35 46 20 10 15 13 41 59 34 88 34 34 85\n",
            " 34 97 99 63 72 88]\n",
            "\n",
            "b looks line\n",
            " [[[93 55 59 35 81]\n",
            "  [76 55 74 17 22]\n",
            "  [73 35 46 20 10]]\n",
            "\n",
            " [[15 13 41 59 34]\n",
            "  [88 34 34 85 34]\n",
            "  [97 99 63 72 88]]]\n",
            "\n",
            "c looks line\n",
            " [[93 55 59 35 81]\n",
            " [76 55 74 17 22]\n",
            " [73 35 46 20 10]\n",
            " [15 13 41 59 34]\n",
            " [88 34 34 85 34]\n",
            " [97 99 63 72 88]]\n"
          ]
        }
      ],
      "source": [
        "print(\"\\na looks line\\n\", a)\n",
        "print(\"\\nb looks line\\n\", b)\n",
        "print(\"\\nc looks line\\n\", c)"
      ]
    },
    {
      "cell_type": "code",
      "execution_count": null,
      "id": "0da32f90",
      "metadata": {
        "id": "0da32f90",
        "outputId": "c5149e71-6edf-48d3-c97c-adebe36686d1"
      },
      "outputs": [
        {
          "name": "stdout",
          "output_type": "stream",
          "text": [
            "\n",
            "Shape of a is: (30,)\n",
            "\n",
            "Shape of b is: (2, 3, 5)\n",
            "\n",
            "Shape of c is: (6, 5)\n"
          ]
        }
      ],
      "source": [
        "print(\"\\nShape of a is:\", a.shape)\n",
        "print(\"\\nShape of b is:\", b.shape)\n",
        "print(\"\\nShape of c is:\", c.shape)"
      ]
    },
    {
      "cell_type": "markdown",
      "id": "48988295",
      "metadata": {
        "id": "48988295"
      },
      "source": [
        "### np.sort() works like .sort function in python"
      ]
    },
    {
      "cell_type": "code",
      "execution_count": null,
      "id": "6903c7a0",
      "metadata": {
        "id": "6903c7a0",
        "outputId": "b06b2833-b7ee-4cfa-9ec1-4b3a1d74b68d"
      },
      "outputs": [
        {
          "name": "stdout",
          "output_type": "stream",
          "text": [
            "\n",
            "Vector of random integers\n",
            " -------------------------------------------------- \n",
            " [80 49 94  4 96 51 90 33 81  5]\n",
            "\n",
            "Here is the sorted vector\n",
            " -------------------------------------------------- \n",
            " [ 4  5 33 49 51 80 81 90 94 96]\n"
          ]
        }
      ],
      "source": [
        "A = np.random.randint(1,100,10)\n",
        "print(\"\\nVector of random integers\\n\", \"-\"*50,\"\\n\",A)\n",
        "print(\"\\nHere is the sorted vector\\n\", '-'*50,\"\\n\",np.sort(A))"
      ]
    },
    {
      "cell_type": "markdown",
      "id": "1abc4b61",
      "metadata": {
        "id": "1abc4b61"
      },
      "source": [
        "### Below we had to implement np.sort but within np.sort there exists an argument that takes 'mergesort', 'quicksort', 'heapsort', 'mergesort', and 'timsort'."
      ]
    },
    {
      "cell_type": "code",
      "execution_count": null,
      "id": "b9f38be0",
      "metadata": {
        "id": "b9f38be0",
        "outputId": "df154bd6-4575-466d-d2f5-46be2fd56762"
      },
      "outputs": [
        {
          "data": {
            "text/plain": [
              "array([[29, 64, 40, 50, 74],\n",
              "       [15,  5,  8, 51, 34],\n",
              "       [93, 42, 19, 14, 52],\n",
              "       [75,  6, 54, 82, 61],\n",
              "       [45, 39, 99,  1, 63]])"
            ]
          },
          "execution_count": 49,
          "metadata": {},
          "output_type": "execute_result"
        }
      ],
      "source": [
        "M = ri(1,100,25).reshape(5,5)\n",
        "M"
      ]
    },
    {
      "cell_type": "markdown",
      "id": "47af3d31",
      "metadata": {
        "id": "47af3d31"
      },
      "source": [
        "**axis=0 means column wise(Vertically) and axis=1 is Row wise(Horizontally)**"
      ]
    },
    {
      "cell_type": "code",
      "execution_count": null,
      "id": "5dc81047",
      "metadata": {
        "scrolled": true,
        "id": "5dc81047",
        "outputId": "ddbcb4ff-7739-4475-95b3-a2b662a42d0e"
      },
      "outputs": [
        {
          "name": "stdout",
          "output_type": "stream",
          "text": [
            "\n",
            " Here is the sorted matrix along each row\n",
            " -------------------------------------------------- \n",
            " [[29 40 50 64 74]\n",
            " [ 5  8 15 34 51]\n",
            " [14 19 42 52 93]\n",
            " [ 6 54 61 75 82]\n",
            " [ 1 39 45 63 99]]\n"
          ]
        }
      ],
      "source": [
        "print(\"\\n Here is the sorted matrix along each row\\n\", \"-\"*50,\"\\n\",np.sort(M, kind='mergesort'))"
      ]
    },
    {
      "cell_type": "markdown",
      "id": "60ae12cf",
      "metadata": {
        "id": "60ae12cf"
      },
      "source": [
        "np.sort(M, kind='mergesort') sorts the matrix M along each row using the mergesort algorithm. The output will be a new matrix where the elements within each row are sorted in ascending order. The resulting matrix will be printed below the line of dashes."
      ]
    },
    {
      "cell_type": "code",
      "execution_count": null,
      "id": "92c2f045",
      "metadata": {
        "scrolled": true,
        "id": "92c2f045",
        "outputId": "7f76dd11-68f7-45aa-a9c1-520b4b7ff1d4"
      },
      "outputs": [
        {
          "name": "stdout",
          "output_type": "stream",
          "text": [
            "\n",
            " Here is the sorted matrix along each column\n",
            " -------------------------------------------------- \n",
            " [[15  5  8  1 34]\n",
            " [29  6 19 14 52]\n",
            " [45 39 40 50 61]\n",
            " [75 42 54 51 63]\n",
            " [93 64 99 82 74]]\n"
          ]
        }
      ],
      "source": [
        "print(\"\\n Here is the sorted matrix along each column\\n\", \"-\"*50,\"\\n\",np.sort(M,axis=0,kind='mergesort'))"
      ]
    },
    {
      "cell_type": "markdown",
      "id": "92fc04f1",
      "metadata": {
        "id": "92fc04f1"
      },
      "source": [
        "np.sort(M, axis=0, kind='mergesort') sorts the matrix M along each column using the mergesort algorithm. The output will be a new matrix where the elements within each column are sorted in ascending order. The resulting matrix will also be printed below the line of dashes."
      ]
    },
    {
      "cell_type": "markdown",
      "id": "fcc0b91c",
      "metadata": {
        "id": "fcc0b91c"
      },
      "source": [
        "### .max() gives the maximum element within a numpy matrix"
      ]
    },
    {
      "cell_type": "code",
      "execution_count": null,
      "id": "3c6aac76",
      "metadata": {
        "id": "3c6aac76",
        "outputId": "e530c50d-2eae-4250-b34d-d637ccac0a3c"
      },
      "outputs": [
        {
          "name": "stdout",
          "output_type": "stream",
          "text": [
            "Max of a: 99\n",
            "Max of b: 99\n"
          ]
        }
      ],
      "source": [
        "print(\"Max of a:\", M.max())\n",
        "print(\"Max of b:\",b.max())"
      ]
    },
    {
      "cell_type": "code",
      "execution_count": null,
      "id": "e96623ab",
      "metadata": {
        "id": "e96623ab",
        "outputId": "40b4b8aa-f214-416c-db7d-a50ce5a57402"
      },
      "outputs": [
        {
          "data": {
            "text/plain": [
              "array([[29, 64, 40, 50, 74],\n",
              "       [15,  5,  8, 51, 34],\n",
              "       [93, 42, 19, 14, 52],\n",
              "       [75,  6, 54, 82, 61],\n",
              "       [45, 39, 99,  1, 63]])"
            ]
          },
          "execution_count": 53,
          "metadata": {},
          "output_type": "execute_result"
        }
      ],
      "source": [
        "M"
      ]
    },
    {
      "cell_type": "code",
      "execution_count": null,
      "id": "fa3b8aa1",
      "metadata": {
        "id": "fa3b8aa1",
        "outputId": "f3e53675-e434-4652-8311-47786bbac6c9"
      },
      "outputs": [
        {
          "name": "stdout",
          "output_type": "stream",
          "text": [
            "Max of a location: [4 3 0 3 2]\n",
            "Max of b location: [[0 0 1 0 0]\n",
            " [2 2 2 1 2]]\n",
            "Max of c location: [0 0 0 3 0 1]\n"
          ]
        }
      ],
      "source": [
        "# It's moving through the row(because we have axis=1) spotting the index with greates value in that row and returning that\n",
        "print(\"Max of a location:\", M.argmax(axis=1))\n",
        "print(\"Max of b location:\", b.argmax(axis=1))\n",
        "print(\"Max of c location:\", c.argmax(axis=1))"
      ]
    },
    {
      "cell_type": "code",
      "execution_count": null,
      "id": "50a9388b",
      "metadata": {
        "id": "50a9388b",
        "outputId": "dcd5fe22-b19f-4cb5-b825-51f0cde5fa6d"
      },
      "outputs": [
        {
          "name": "stdout",
          "output_type": "stream",
          "text": [
            "Max of a location: [2 0 4 3 0]\n",
            "Max of b location:  [[0 0 0 1 0]\n",
            " [1 0 0 1 1]\n",
            " [1 1 1 1 1]]\n",
            "Max of c location: [5 5 1 4 5]\n"
          ]
        }
      ],
      "source": [
        "# It's moving through the column(because we have axis=0) spotting the index with greates value in that column and returning that\n",
        "print(\"Max of a location:\", M.argmax(axis=0))\n",
        "print(\"Max of b location: \", b.argmax(axis=0))\n",
        "print(\"Max of c location:\", c.argmax(axis=0))"
      ]
    },
    {
      "cell_type": "code",
      "execution_count": null,
      "id": "0a445e01",
      "metadata": {
        "id": "0a445e01",
        "outputId": "74f842b3-2779-4b2b-f173-e7db31a6f4c2"
      },
      "outputs": [
        {
          "name": "stdout",
          "output_type": "stream",
          "text": [
            "Max of a location: 22\n",
            "Max of b location: 26\n",
            "Max of c location: 26\n"
          ]
        }
      ],
      "source": [
        "# If we are not specifying any axis value it is returning the maximum value overall in that matrix\n",
        "print(\"Max of a location:\", M.argmax())\n",
        "print(\"Max of b location:\", b.argmax())\n",
        "print(\"Max of c location:\", c.argmax())"
      ]
    },
    {
      "cell_type": "markdown",
      "id": "1ff2b7ed",
      "metadata": {
        "id": "1ff2b7ed"
      },
      "source": [
        "# Indexing and Slicing"
      ]
    },
    {
      "cell_type": "code",
      "execution_count": null,
      "id": "7c71f650",
      "metadata": {
        "id": "7c71f650",
        "outputId": "5ac1c1a6-2f37-471b-8d8b-9e242f590aee"
      },
      "outputs": [
        {
          "name": "stdout",
          "output_type": "stream",
          "text": [
            "Array [ 0  1  2  3  4  5  6  7  8  9 10]\n"
          ]
        }
      ],
      "source": [
        "arr = np.arange(0,11)\n",
        "print(\"Array\",arr)"
      ]
    },
    {
      "cell_type": "code",
      "execution_count": null,
      "id": "3038cc72",
      "metadata": {
        "id": "3038cc72",
        "outputId": "63d50ab2-1638-4fde-84f4-cbdc17531a8a"
      },
      "outputs": [
        {
          "name": "stdout",
          "output_type": "stream",
          "text": [
            "Element at 7th  index is 7\n"
          ]
        }
      ],
      "source": [
        "print(\"Element at 7th  index is\", arr[7])"
      ]
    },
    {
      "cell_type": "code",
      "execution_count": null,
      "id": "ddffb188",
      "metadata": {
        "id": "ddffb188",
        "outputId": "3da1aaa5-2c05-400a-e89d-ed4461f0d95e"
      },
      "outputs": [
        {
          "name": "stdout",
          "output_type": "stream",
          "text": [
            "Element from 3rd to 5th index are: [3 5]\n"
          ]
        }
      ],
      "source": [
        "# Below argument says that go from 3-6(6 won't be considered) with the interval of 2\n",
        "print(\"Element from 3rd to 5th index are:\", arr[3:6:2])"
      ]
    },
    {
      "cell_type": "code",
      "execution_count": null,
      "id": "46027d45",
      "metadata": {
        "id": "46027d45",
        "outputId": "9fb0de4e-16c8-4246-a63b-8d6fd8556314"
      },
      "outputs": [
        {
          "name": "stdout",
          "output_type": "stream",
          "text": [
            "Elements from last backwards are: [10  9  8]\n"
          ]
        }
      ],
      "source": [
        "print(\"Elements from last backwards are:\", arr[-1:7:-1])"
      ]
    },
    {
      "cell_type": "code",
      "execution_count": null,
      "id": "c003e099",
      "metadata": {
        "id": "c003e099",
        "outputId": "e038a5da-eb21-4d38-bc58-5c87c19a2678"
      },
      "outputs": [
        {
          "name": "stdout",
          "output_type": "stream",
          "text": [
            "3 Elements from last backwards are: []\n"
          ]
        }
      ],
      "source": [
        "print(\"3 Elements from last backwards are:\", arr[-1:-7:2])"
      ]
    },
    {
      "cell_type": "code",
      "execution_count": null,
      "id": "247a5c34",
      "metadata": {
        "id": "247a5c34",
        "outputId": "d58e2e05-f820-47f2-ad22-3b5a938377cc"
      },
      "outputs": [
        {
          "name": "stdout",
          "output_type": "stream",
          "text": [
            "Arr [ 1  3  5  7  9 11 13 15 17 19]\n"
          ]
        }
      ],
      "source": [
        "arr = np.arange(1,20,2)\n",
        "print(\"Arr\", arr)"
      ]
    },
    {
      "cell_type": "code",
      "execution_count": null,
      "id": "c7bcbd26",
      "metadata": {
        "id": "c7bcbd26",
        "outputId": "f6e90b8b-fc2b-4359-8607-a2590f77b5f0"
      },
      "outputs": [
        {
          "name": "stdout",
          "output_type": "stream",
          "text": [
            "Element at 2nd, 4th and 9th index are: [ 5  9 19]\n"
          ]
        }
      ],
      "source": [
        "print(\"Element at 2nd, 4th and 9th index are:\", arr[[2,4,9]])"
      ]
    },
    {
      "cell_type": "markdown",
      "id": "1f46409c",
      "metadata": {
        "id": "1f46409c"
      },
      "source": [
        "# Indexing Operation"
      ]
    },
    {
      "cell_type": "code",
      "execution_count": null,
      "id": "4cf0dd5e",
      "metadata": {
        "id": "4cf0dd5e",
        "outputId": "a9ad572c-a527-482f-90f2-b7604f7cdd3e"
      },
      "outputs": [
        {
          "name": "stdout",
          "output_type": "stream",
          "text": [
            "Matrix of random 2-digit number\n",
            "--------------------\n",
            " [[[60 43 41]\n",
            "  [57 35 81]\n",
            "  [34 66 81]\n",
            "  [77 52 99]\n",
            "  [47 42 74]]\n",
            "\n",
            " [[70 74 99]\n",
            "  [87 28 92]\n",
            "  [85 28 27]\n",
            "  [52 29 55]\n",
            "  [27 49 34]]\n",
            "\n",
            " [[79 31 77]\n",
            "  [56 37 31]\n",
            "  [99 23 35]\n",
            "  [86 45 32]\n",
            "  [87 76 91]]]\n"
          ]
        }
      ],
      "source": [
        "mat = np.array(ri(10,100,45)).reshape(3,5,3)\n",
        "print(\"Matrix of random 2-digit number\\n--------------------\\n\",mat)"
      ]
    },
    {
      "cell_type": "code",
      "execution_count": null,
      "id": "bfd2411e",
      "metadata": {
        "id": "bfd2411e",
        "outputId": "f64ac664-6238-4534-bf94-0b15f6f67127"
      },
      "outputs": [
        {
          "name": "stdout",
          "output_type": "stream",
          "text": [
            "In our original matrix mat at 0th index we have \n",
            " [[60 43 41]\n",
            " [57 35 81]\n",
            " [34 66 81]\n",
            " [77 52 99]\n",
            " [47 42 74]]\n"
          ]
        }
      ],
      "source": [
        "# Dimension 1\n",
        "print(\"In our original matrix mat at 0th index we have \\n\",mat[0])"
      ]
    },
    {
      "cell_type": "code",
      "execution_count": null,
      "id": "be21b2fa",
      "metadata": {
        "id": "be21b2fa",
        "outputId": "517a70fb-390b-4ad5-b993-d1165eeb7b98"
      },
      "outputs": [
        {
          "name": "stdout",
          "output_type": "stream",
          "text": [
            "In our original  matrix mat at 1st index we have \n",
            " [[70 74 99]\n",
            " [87 28 92]\n",
            " [85 28 27]\n",
            " [52 29 55]\n",
            " [27 49 34]]\n"
          ]
        }
      ],
      "source": [
        "# Dimension 2\n",
        "print(\"In our original  matrix mat at 1st index we have \\n\",mat[1])"
      ]
    },
    {
      "cell_type": "code",
      "execution_count": null,
      "id": "5425b8ca",
      "metadata": {
        "id": "5425b8ca",
        "outputId": "95e08dae-2a6f-4928-fe41-8e61675a3fcf"
      },
      "outputs": [
        {
          "name": "stdout",
          "output_type": "stream",
          "text": [
            "Similarly in our original matrix mat at 2nd index we have \n",
            " [[79 31 77]\n",
            " [56 37 31]\n",
            " [99 23 35]\n",
            " [86 45 32]\n",
            " [87 76 91]]\n"
          ]
        }
      ],
      "source": [
        "# Dimension 3\n",
        "print(\"Similarly in our original matrix mat at 2nd index we have \\n\",mat[2])"
      ]
    },
    {
      "cell_type": "markdown",
      "id": "d4674db3",
      "metadata": {
        "id": "d4674db3"
      },
      "source": [
        "In our original matrix mat if we want to access [37,25,97] from 2nd dimension this is how we would do that.\n",
        "* 1st we will access the 2nd dimention by performing **mat[1]** operation now [37,25,97] is at 1st index of 2nd dimension and we would access it by doing **mat[1][1]**"
      ]
    },
    {
      "cell_type": "code",
      "execution_count": null,
      "id": "a3353a1f",
      "metadata": {
        "id": "a3353a1f",
        "outputId": "219a48e4-ecb9-4fd6-8448-948c34f03296"
      },
      "outputs": [
        {
          "data": {
            "text/plain": [
              "array([87, 28, 92])"
            ]
          },
          "execution_count": 68,
          "metadata": {},
          "output_type": "execute_result"
        }
      ],
      "source": [
        "mat[1][1]"
      ]
    },
    {
      "cell_type": "markdown",
      "id": "12202644",
      "metadata": {
        "id": "12202644"
      },
      "source": [
        "Now if i just want to access 97 i would write mat[1][1][1]"
      ]
    },
    {
      "cell_type": "code",
      "execution_count": null,
      "id": "19770380",
      "metadata": {
        "id": "19770380",
        "outputId": "01ad5df2-f930-45c1-a935-4e78b82d7373"
      },
      "outputs": [
        {
          "data": {
            "text/plain": [
              "92"
            ]
          },
          "execution_count": 69,
          "metadata": {},
          "output_type": "execute_result"
        }
      ],
      "source": [
        "mat[1][1][2]"
      ]
    },
    {
      "cell_type": "markdown",
      "id": "f4128e17",
      "metadata": {
        "id": "f4128e17"
      },
      "source": [
        "# Slicing Operation"
      ]
    },
    {
      "cell_type": "code",
      "execution_count": null,
      "id": "d9094a6e",
      "metadata": {
        "id": "d9094a6e",
        "outputId": "095156b7-d0f1-4a28-aa67-7130f832a41b"
      },
      "outputs": [
        {
          "name": "stdout",
          "output_type": "stream",
          "text": [
            "[43, 35, 66, 52, 42]\n"
          ]
        }
      ],
      "source": [
        "# Our task is to access the 1st index elements from a 1-Dimentional array\n",
        "c=[]\n",
        "for i in range(5):\n",
        "    a=mat[0][i][1]\n",
        "    c.append(a)\n",
        "print(c)"
      ]
    },
    {
      "cell_type": "code",
      "execution_count": null,
      "id": "ba5a3d2d",
      "metadata": {
        "id": "ba5a3d2d",
        "outputId": "fcb53df9-c7da-4df9-fda4-e0496d0f2917"
      },
      "outputs": [
        {
          "data": {
            "text/plain": [
              "array([43, 35, 66, 52, 42])"
            ]
          },
          "execution_count": 71,
          "metadata": {},
          "output_type": "execute_result"
        }
      ],
      "source": [
        "# Another approach to so is by\n",
        "mat[0][:,1] # mat[0][:,1] means in matrix mat's 1st-Dimension sub matric's, [:,1] all the row but column 1"
      ]
    },
    {
      "cell_type": "code",
      "execution_count": null,
      "id": "ad59bade",
      "metadata": {
        "id": "ad59bade",
        "outputId": "c9e869da-2f12-45f9-d06c-41b4582ce59c"
      },
      "outputs": [
        {
          "data": {
            "text/plain": [
              "array([[[60, 43, 41],\n",
              "        [57, 35, 81],\n",
              "        [34, 66, 81],\n",
              "        [77, 52, 99],\n",
              "        [47, 42, 74]],\n",
              "\n",
              "       [[70, 74, 99],\n",
              "        [87, 28, 92],\n",
              "        [85, 28, 27],\n",
              "        [52, 29, 55],\n",
              "        [27, 49, 34]],\n",
              "\n",
              "       [[79, 31, 77],\n",
              "        [56, 37, 31],\n",
              "        [99, 23, 35],\n",
              "        [86, 45, 32],\n",
              "        [87, 76, 91]]])"
            ]
          },
          "execution_count": 72,
          "metadata": {},
          "output_type": "execute_result"
        }
      ],
      "source": [
        "mat"
      ]
    },
    {
      "cell_type": "markdown",
      "id": "2226e644",
      "metadata": {
        "id": "2226e644"
      },
      "source": [
        "### Now our task is to select the first two column from all the dimensions into one metrix"
      ]
    },
    {
      "cell_type": "code",
      "execution_count": null,
      "id": "1d4506ff",
      "metadata": {
        "id": "1d4506ff",
        "outputId": "f8940109-e5f0-45ff-b8b3-eb28c432c138"
      },
      "outputs": [
        {
          "name": "stdout",
          "output_type": "stream",
          "text": [
            "[[60 43 41]\n",
            " [57 35 81]]\n",
            "[[70 74 99]\n",
            " [87 28 92]]\n",
            "[[79 31 77]\n",
            " [56 37 31]]\n"
          ]
        }
      ],
      "source": [
        "# Approach 1\n",
        "for i in range(3):\n",
        "    print(mat[i][:2,:])"
      ]
    },
    {
      "cell_type": "code",
      "execution_count": null,
      "id": "7481e727",
      "metadata": {
        "id": "7481e727",
        "outputId": "6bb42376-0076-4c54-cad4-2b84f0f410f5"
      },
      "outputs": [
        {
          "data": {
            "text/plain": [
              "array([[60, 43, 41],\n",
              "       [57, 35, 81],\n",
              "       [70, 74, 99],\n",
              "       [87, 28, 92],\n",
              "       [79, 31, 77],\n",
              "       [56, 37, 31]])"
            ]
          },
          "execution_count": 74,
          "metadata": {},
          "output_type": "execute_result"
        }
      ],
      "source": [
        "# Approach 2\n",
        "a = mat[0][0:3][0:2]\n",
        "b = mat[1][0:3][0:2]\n",
        "c = mat[2][0:3][0:2]\n",
        "e = np.concatenate((np.concatenate((a,b), axis=0),c), axis=0)\n",
        "e"
      ]
    },
    {
      "cell_type": "markdown",
      "id": "9c330edc",
      "metadata": {
        "id": "9c330edc"
      },
      "source": [
        "**Alternative and the best from the bunch approach to perform the same task would be**"
      ]
    },
    {
      "cell_type": "code",
      "execution_count": null,
      "id": "537d7980",
      "metadata": {
        "id": "537d7980",
        "outputId": "601425a8-034a-4534-db5a-70ae4b50be4b"
      },
      "outputs": [
        {
          "data": {
            "text/plain": [
              "array([[[60, 43, 41],\n",
              "        [57, 35, 81]],\n",
              "\n",
              "       [[70, 74, 99],\n",
              "        [87, 28, 92]],\n",
              "\n",
              "       [[79, 31, 77],\n",
              "        [56, 37, 31]]])"
            ]
          },
          "execution_count": 75,
          "metadata": {},
          "output_type": "execute_result"
        }
      ],
      "source": [
        "# Approach 3\n",
        "mat[0:3,[0,1]]"
      ]
    },
    {
      "cell_type": "markdown",
      "id": "549a865f",
      "metadata": {
        "id": "549a865f"
      },
      "source": [
        "# Subseting"
      ]
    },
    {
      "cell_type": "code",
      "execution_count": null,
      "id": "e6c178ad",
      "metadata": {
        "id": "e6c178ad",
        "outputId": "c048b890-06e1-4773-f2c1-359a48b7a770"
      },
      "outputs": [
        {
          "data": {
            "text/plain": [
              "array([[[60, 43, 41],\n",
              "        [57, 35, 81],\n",
              "        [34, 66, 81],\n",
              "        [77, 52, 99],\n",
              "        [47, 42, 74]],\n",
              "\n",
              "       [[70, 74, 99],\n",
              "        [87, 28, 92],\n",
              "        [85, 28, 27],\n",
              "        [52, 29, 55],\n",
              "        [27, 49, 34]],\n",
              "\n",
              "       [[79, 31, 77],\n",
              "        [56, 37, 31],\n",
              "        [99, 23, 35],\n",
              "        [86, 45, 32],\n",
              "        [87, 76, 91]]])"
            ]
          },
          "execution_count": 76,
          "metadata": {},
          "output_type": "execute_result"
        }
      ],
      "source": [
        "mat"
      ]
    },
    {
      "cell_type": "code",
      "execution_count": null,
      "id": "db9596f6",
      "metadata": {
        "id": "db9596f6",
        "outputId": "b589a5d3-bcb8-4866-df1b-fdc43cabe059"
      },
      "outputs": [
        {
          "data": {
            "text/plain": [
              "array([[[60, 43, 41],\n",
              "        [57, 35, 81],\n",
              "        [34, 66, 81],\n",
              "        [77, 52, 99],\n",
              "        [47, 42, 74]],\n",
              "\n",
              "       [[70, 74, 50],\n",
              "        [87, 28, 92],\n",
              "        [85, 28, 27],\n",
              "        [52, 29, 55],\n",
              "        [27, 49, 34]],\n",
              "\n",
              "       [[79, 31, 77],\n",
              "        [56, 37, 31],\n",
              "        [99, 23, 35],\n",
              "        [86, 45, 32],\n",
              "        [87, 76, 91]]])"
            ]
          },
          "execution_count": 77,
          "metadata": {},
          "output_type": "execute_result"
        }
      ],
      "source": [
        "# We can also change the value of certain data if we want like\n",
        "mat[1][0][2]=50\n",
        "mat # when i will see this the value would have been changed"
      ]
    },
    {
      "cell_type": "code",
      "execution_count": null,
      "id": "e9e52992",
      "metadata": {
        "id": "e9e52992",
        "outputId": "8bda87bd-5edf-46dd-e48a-e6c534a69e0e"
      },
      "outputs": [
        {
          "name": "stdout",
          "output_type": "stream",
          "text": [
            "Matrix of random 2-digit number\n",
            "---------------\n",
            " [[65 44 74 80 76]\n",
            " [72 45 20 26 61]\n",
            " [41 74 98 70 42]]\n"
          ]
        },
        {
          "data": {
            "text/plain": [
              "array([[ True, False,  True,  True,  True],\n",
              "       [ True, False, False, False,  True],\n",
              "       [False,  True,  True,  True, False]])"
            ]
          },
          "execution_count": 78,
          "metadata": {},
          "output_type": "execute_result"
        }
      ],
      "source": [
        "mat = np.array(ri(10,100,15)).reshape(3,5)\n",
        "print(\"Matrix of random 2-digit number\\n---------------\\n\", mat)\n",
        "mat>50"
      ]
    },
    {
      "cell_type": "code",
      "execution_count": null,
      "id": "3f6a1100",
      "metadata": {
        "id": "3f6a1100",
        "outputId": "0c226114-2bdc-4bf1-ab8a-ce70be3793fb"
      },
      "outputs": [
        {
          "name": "stdout",
          "output_type": "stream",
          "text": [
            "Element greater than 50\n",
            " [65 74 80 76 72 61 74 98 70]\n"
          ]
        }
      ],
      "source": [
        "print(\"Element greater than 50\\n\", mat[mat>50])"
      ]
    },
    {
      "cell_type": "markdown",
      "id": "347fa249",
      "metadata": {
        "id": "347fa249"
      },
      "source": [
        "# Universal Function"
      ]
    },
    {
      "cell_type": "code",
      "execution_count": null,
      "id": "72c4c03b",
      "metadata": {
        "id": "72c4c03b",
        "outputId": "66857365-b6d0-46ca-cf4b-45bb3d81cbe0"
      },
      "outputs": [
        {
          "name": "stdout",
          "output_type": "stream",
          "text": [
            "\\m1st Matrix of random signle-digit number\n",
            "---------------------- [[8 9 1]\n",
            " [5 1 5]\n",
            " [2 3 4]]\n",
            "\\m2st Matrix of random signle-digit number\n",
            "---------------------- [[9 6 1]\n",
            " [3 4 3]\n",
            " [1 4 6]]\n"
          ]
        }
      ],
      "source": [
        "mat1 = np.array(ri(1,10,9)).reshape(3,3)\n",
        "mat2 = np.array(ri(1,10,9)).reshape(3,3)\n",
        "print(\"\\m1st Matrix of random signle-digit number\\n----------------------\", mat1)\n",
        "print(\"\\m2st Matrix of random signle-digit number\\n----------------------\", mat2)"
      ]
    },
    {
      "cell_type": "markdown",
      "id": "360f3284",
      "metadata": {
        "id": "360f3284"
      },
      "source": [
        "### To perform matrix multiplication always be aware of the dimention mxn,nxb should be the form of dimention"
      ]
    },
    {
      "cell_type": "code",
      "execution_count": null,
      "id": "a39b303f",
      "metadata": {
        "id": "a39b303f",
        "outputId": "796403b3-e5aa-4b23-f59a-c86223daedf3"
      },
      "outputs": [
        {
          "data": {
            "text/plain": [
              "array([[72, 54,  1],\n",
              "       [15,  4, 15],\n",
              "       [ 2, 12, 24]])"
            ]
          },
          "execution_count": 81,
          "metadata": {},
          "output_type": "execute_result"
        }
      ],
      "source": [
        "mat1*mat2 # this is not an actual matrix multiplication this is index wise matrix multiplication"
      ]
    },
    {
      "cell_type": "code",
      "execution_count": null,
      "id": "861ef704",
      "metadata": {
        "id": "861ef704",
        "outputId": "3fc98767-081a-475e-f25d-6ad4cc31c254"
      },
      "outputs": [
        {
          "data": {
            "text/plain": [
              "array([[100,  88,  41],\n",
              "       [ 53,  54,  38],\n",
              "       [ 31,  40,  35]])"
            ]
          },
          "execution_count": 82,
          "metadata": {},
          "output_type": "execute_result"
        }
      ],
      "source": [
        "mat1@mat2 # Here we are performing the proper matrix multiplication"
      ]
    },
    {
      "cell_type": "markdown",
      "id": "b4325c7f",
      "metadata": {
        "id": "b4325c7f"
      },
      "source": [
        "## np.matmul(a,b) is a numpy function that performs matrix multiplication"
      ]
    },
    {
      "cell_type": "code",
      "execution_count": null,
      "id": "b3f3a76a",
      "metadata": {
        "id": "b3f3a76a",
        "outputId": "76df8932-17b3-482f-a8dc-d233bbca928e"
      },
      "outputs": [
        {
          "data": {
            "text/plain": [
              "array([[100,  88,  41],\n",
              "       [ 53,  54,  38],\n",
              "       [ 31,  40,  35]])"
            ]
          },
          "execution_count": 83,
          "metadata": {},
          "output_type": "execute_result"
        }
      ],
      "source": [
        "np.matmul(mat1,mat2)"
      ]
    },
    {
      "cell_type": "code",
      "execution_count": null,
      "id": "afcc7362",
      "metadata": {
        "id": "afcc7362",
        "outputId": "6dd00329-d889-435d-f4cd-ca06cb037661"
      },
      "outputs": [
        {
          "name": "stdout",
          "output_type": "stream",
          "text": [
            "\n",
            "Division\n",
            "----------------------\n",
            " [[inf inf inf]\n",
            " [inf inf inf]\n",
            " [inf inf inf]]\n"
          ]
        },
        {
          "name": "stderr",
          "output_type": "stream",
          "text": [
            "C:\\Users\\tanze\\AppData\\Local\\Temp\\ipykernel_27420\\2587647509.py:1: RuntimeWarning: divide by zero encountered in divide\n",
            "  print(\"\\nDivision\\n----------------------\\n\",mat1/0)\n"
          ]
        }
      ],
      "source": [
        "print(\"\\nDivision\\n----------------------\\n\",mat1/0)"
      ]
    },
    {
      "cell_type": "code",
      "execution_count": null,
      "id": "48fb90f5",
      "metadata": {
        "id": "48fb90f5",
        "outputId": "a4bbf3b4-20a5-4fdb-826d-d0d45233e780"
      },
      "outputs": [
        {
          "name": "stdout",
          "output_type": "stream",
          "text": [
            "\n",
            "Addition\n",
            "----------------------\n",
            " [[18 19 11]\n",
            " [15 11 15]\n",
            " [12 13 14]]\n"
          ]
        }
      ],
      "source": [
        "print(\"\\nAddition\\n----------------------\\n\",mat1+10) # 10 gets added in each element"
      ]
    },
    {
      "cell_type": "code",
      "execution_count": null,
      "id": "b8482719",
      "metadata": {
        "id": "b8482719",
        "outputId": "7d1f485c-597f-4497-957e-cd194b0d7bc0"
      },
      "outputs": [
        {
          "name": "stdout",
          "output_type": "stream",
          "text": [
            "\n",
            "Exponentiation, matrix cubed here\n",
            "----------------------\n",
            " [[512 729   1]\n",
            " [125   1 125]\n",
            " [  8  27  64]]\n",
            "\n",
            "Exponentiation, finding root of matrix\n",
            "------------------\n",
            " [[64 81  1]\n",
            " [25  1 25]\n",
            " [ 4  9 16]]\n"
          ]
        }
      ],
      "source": [
        "print(\"\\nExponentiation, matrix cubed here\\n----------------------\\n\",mat1**3)\n",
        "print(\"\\nExponentiation, finding root of matrix\\n------------------\\n\",pow(mat1,2))"
      ]
    },
    {
      "cell_type": "markdown",
      "id": "baf3ebd3",
      "metadata": {
        "id": "baf3ebd3"
      },
      "source": [
        "# Broadcasting"
      ]
    },
    {
      "cell_type": "code",
      "execution_count": null,
      "id": "391c8a1e",
      "metadata": {
        "id": "391c8a1e",
        "outputId": "e7ca705f-d576-436e-8558-20e94dea6001"
      },
      "outputs": [
        {
          "data": {
            "text/plain": [
              "array([[100., 100., 100., 100.],\n",
              "       [100., 100., 100., 100.],\n",
              "       [100., 100., 100., 100.],\n",
              "       [100., 100., 100., 100.]])"
            ]
          },
          "execution_count": 87,
          "metadata": {},
          "output_type": "execute_result"
        }
      ],
      "source": [
        "start = np.zeros((4,4))\n",
        "start = start+100\n",
        "start"
      ]
    },
    {
      "cell_type": "code",
      "execution_count": null,
      "id": "9484faf9",
      "metadata": {
        "id": "9484faf9",
        "outputId": "1c2d0bf5-7630-43d1-9fee-1f2a92d349ff"
      },
      "outputs": [
        {
          "data": {
            "text/plain": [
              "array([1, 0, 2, 5])"
            ]
          },
          "execution_count": 88,
          "metadata": {},
          "output_type": "execute_result"
        }
      ],
      "source": [
        "# create a rank1 ndarray with 3 values\n",
        "add_rows = np.array([1,0,2,5])\n",
        "add_rows"
      ]
    },
    {
      "cell_type": "code",
      "execution_count": null,
      "id": "47ab438a",
      "metadata": {
        "id": "47ab438a",
        "outputId": "c520f390-7261-498e-f2a7-0aa4972579c5"
      },
      "outputs": [
        {
          "data": {
            "text/plain": [
              "array([[101., 100., 102., 105.],\n",
              "       [101., 100., 102., 105.],\n",
              "       [101., 100., 102., 105.],\n",
              "       [101., 100., 102., 105.]])"
            ]
          },
          "execution_count": 89,
          "metadata": {},
          "output_type": "execute_result"
        }
      ],
      "source": [
        "y = start + add_rows\n",
        "y"
      ]
    },
    {
      "cell_type": "markdown",
      "id": "5359ac21",
      "metadata": {
        "id": "5359ac21"
      },
      "source": [
        "So in first column 1 gets added in each in 2nd 0 gets addend similary in 3rd 2 gets added and in fourth 5"
      ]
    },
    {
      "cell_type": "code",
      "execution_count": null,
      "id": "172d5b21",
      "metadata": {
        "id": "172d5b21",
        "outputId": "79c66c3f-66e4-4edf-f3d4-fe30e7b2fa80"
      },
      "outputs": [
        {
          "data": {
            "text/plain": [
              "array([[0],\n",
              "       [1],\n",
              "       [2],\n",
              "       [3]])"
            ]
          },
          "execution_count": 90,
          "metadata": {},
          "output_type": "execute_result"
        }
      ],
      "source": [
        "# If we want to perform column wise Broadcasting then we are supposed to perform transpose operation\n",
        "add_cols = np.array([[0,1,2,3]])\n",
        "add_cols = add_cols.T\n",
        "add_cols"
      ]
    },
    {
      "cell_type": "code",
      "execution_count": null,
      "id": "e83eee16",
      "metadata": {
        "id": "e83eee16"
      },
      "outputs": [],
      "source": [
        "x = start+add_cols"
      ]
    },
    {
      "cell_type": "code",
      "execution_count": null,
      "id": "ccf8ad29",
      "metadata": {
        "id": "ccf8ad29",
        "outputId": "a1bcbd98-197f-488f-eccc-2e9c564d909c"
      },
      "outputs": [
        {
          "data": {
            "text/plain": [
              "array([[100., 100., 100., 100.],\n",
              "       [101., 101., 101., 101.],\n",
              "       [102., 102., 102., 102.],\n",
              "       [103., 103., 103., 103.]])"
            ]
          },
          "execution_count": 92,
          "metadata": {},
          "output_type": "execute_result"
        }
      ],
      "source": [
        "x"
      ]
    },
    {
      "cell_type": "markdown",
      "id": "c9ba467f",
      "metadata": {
        "id": "c9ba467f"
      },
      "source": [
        "as we can see now we have column wise operations"
      ]
    },
    {
      "cell_type": "markdown",
      "id": "6e5be777",
      "metadata": {
        "id": "6e5be777"
      },
      "source": [
        "# Array Math"
      ]
    },
    {
      "cell_type": "code",
      "execution_count": null,
      "id": "46b845f9",
      "metadata": {
        "id": "46b845f9",
        "outputId": "7520b980-3cc4-4e70-f69d-76f66f42e93f"
      },
      "outputs": [
        {
          "name": "stdout",
          "output_type": "stream",
          "text": [
            "\n",
            "Mat1\n",
            " [[8 9 1]\n",
            " [5 1 5]\n",
            " [2 3 4]]\n",
            "\n",
            "Mat2\n",
            " [[9 6 1]\n",
            " [3 4 3]\n",
            " [1 4 6]]\n"
          ]
        }
      ],
      "source": [
        "print(\"\\nMat1\\n\",mat1)\n",
        "print(\"\\nMat2\\n\",mat2)"
      ]
    },
    {
      "cell_type": "code",
      "execution_count": null,
      "id": "0478df29",
      "metadata": {
        "id": "0478df29",
        "outputId": "254f097d-5676-4d25-e660-92eafad08f0b"
      },
      "outputs": [
        {
          "name": "stdout",
          "output_type": "stream",
          "text": [
            "\n",
            "Sqrt Operation on each element of the metrix\n",
            "------------------------ [[2.82842712 3.         1.        ]\n",
            " [2.23606798 1.         2.23606798]\n",
            " [1.41421356 1.73205081 2.        ]]\n"
          ]
        }
      ],
      "source": [
        "print(\"\\nSqrt Operation on each element of the metrix\\n------------------------\",np.sqrt(mat1))"
      ]
    },
    {
      "cell_type": "code",
      "execution_count": null,
      "id": "8084f146",
      "metadata": {
        "id": "8084f146",
        "outputId": "cacb5d10-acb4-4656-9c37-3ff4a40eed63"
      },
      "outputs": [
        {
          "name": "stdout",
          "output_type": "stream",
          "text": [
            "\n",
            "Exponential Operation on each element of the metrix\n",
            "------------------------ -------------------------------------------------- \n",
            " [[2.98095799e+03 8.10308393e+03 2.71828183e+00]\n",
            " [1.48413159e+02 2.71828183e+00 1.48413159e+02]\n",
            " [7.38905610e+00 2.00855369e+01 5.45981500e+01]]\n"
          ]
        }
      ],
      "source": [
        "print(\"\\nExponential Operation on each element of the metrix\\n------------------------\",'-'*50,\"\\n\",np.exp(mat1))"
      ]
    },
    {
      "cell_type": "code",
      "execution_count": null,
      "id": "2cc30632",
      "metadata": {
        "id": "2cc30632",
        "outputId": "0770de63-4522-42e2-9336-0d89bedf2e4d"
      },
      "outputs": [
        {
          "name": "stdout",
          "output_type": "stream",
          "text": [
            "\n",
            "10-base logarithm on each element of the metrix\n",
            "------------------------ [[0.90308999 0.95424251 0.        ]\n",
            " [0.69897    0.         0.69897   ]\n",
            " [0.30103    0.47712125 0.60205999]]\n"
          ]
        }
      ],
      "source": [
        "print(\"\\n10-base logarithm on each element of the metrix\\n------------------------\",np.log10(mat1))"
      ]
    },
    {
      "cell_type": "code",
      "execution_count": null,
      "id": "3d8df423",
      "metadata": {
        "id": "3d8df423",
        "outputId": "1b334d87-bb87-46fc-92ef-d1acaa61cfcc"
      },
      "outputs": [
        {
          "name": "stdout",
          "output_type": "stream",
          "text": [
            "\n",
            "Modulo reminder Operation on each element of the metrix\n",
            "------------------------ [[8 3 0]\n",
            " [2 1 2]\n",
            " [0 3 4]]\n"
          ]
        },
        {
          "data": {
            "text/plain": [
              "array([[8, 3, 0],\n",
              "       [2, 1, 2],\n",
              "       [0, 3, 4]])"
            ]
          },
          "execution_count": 97,
          "metadata": {},
          "output_type": "execute_result"
        }
      ],
      "source": [
        "print(\"\\nModulo reminder Operation on each element of the metrix\\n------------------------\",np.fmod(mat1, mat2))\n",
        "mat1%mat2"
      ]
    }
  ],
  "metadata": {
    "kernelspec": {
      "display_name": "Python 3 (ipykernel)",
      "language": "python",
      "name": "python3"
    },
    "language_info": {
      "codemirror_mode": {
        "name": "ipython",
        "version": 3
      },
      "file_extension": ".py",
      "mimetype": "text/x-python",
      "name": "python",
      "nbconvert_exporter": "python",
      "pygments_lexer": "ipython3",
      "version": "3.10.9"
    },
    "colab": {
      "provenance": [],
      "include_colab_link": true
    }
  },
  "nbformat": 4,
  "nbformat_minor": 5
}